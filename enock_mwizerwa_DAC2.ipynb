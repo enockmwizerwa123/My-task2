{
 "cells": [
  {
   "cell_type": "markdown",
   "id": "c0e0fd5f",
   "metadata": {},
   "source": [
    "2.a) The plot of process model and the data on the same graph."
   ]
  },
  {
   "cell_type": "markdown",
   "id": "bff60ec0",
   "metadata": {},
   "source": [
    "# The process model "
   ]
  },
  {
   "cell_type": "code",
   "execution_count": null,
   "id": "e75d31d6",
   "metadata": {},
   "outputs": [],
   "source": [
    "import numpy as np\n",
    "import matplotlib.pyplot as plt\n",
    "import seaborn as sns\n",
    "import warnings\n",
    "warnings.filterwarnings('ignore')\n",
    "from scipy.stats import norm"
   ]
  },
  {
   "cell_type": "code",
   "execution_count": null,
   "id": "dc717dd7",
   "metadata": {},
   "outputs": [],
   "source": [
    "def process(q,alpha):\n",
    "    x_0 = np.random.normal(0,1)\n",
    "    X = np.zeros(30)\n",
    "    X[0] = x_0\n",
    "    for i in range (1,30):\n",
    "        delta = np.random.normal(0,q)\n",
    "        X[i] = alpha * X[i-1] + delta\n",
    "    return X"
   ]
  },
  {
   "cell_type": "markdown",
   "id": "ae3817b4",
   "metadata": {},
   "source": [
    "# The data model"
   ]
  },
  {
   "cell_type": "code",
   "execution_count": null,
   "id": "4b441fd0",
   "metadata": {},
   "outputs": [],
   "source": [
    "def data(X,r,T,T1,T2):\n",
    "    n = len(X)\n",
    "    Y = np.zeros(n)\n",
    "    for i in range(0,n):\n",
    "        epsilon = np.random.normal(0,r)\n",
    "        if i in range(0,T1+1):\n",
    "            Y[i]=X[i]+epsilon\n",
    "        if i in range(T1,T2+1):\n",
    "            Y[i]=0.1*X[i]+epsilon\n",
    "        if i in range(T2,T+1):\n",
    "            Y[i]=X[i]+epsilon\n",
    "    return Y\n",
    "\n",
    "alpha=0.8\n",
    "q=0.4\n",
    "r=0.1\n",
    "T=30\n",
    "T1=10\n",
    "T2=20\n",
    "X=process(alpha,q)\n",
    "Y=data(X,r,T,T1,T2)"
   ]
  },
  {
   "cell_type": "code",
   "execution_count": null,
   "id": "ba82dfd2",
   "metadata": {},
   "outputs": [],
   "source": [
    "plt.figure(figsize=(10,8), dpi = 65)\n",
    "plt.plot(Y, 'o',color='red',label='Data')\n",
    "plt.plot(X, color ='blue',label='Process')\n",
    "plt.xlabel('time')\n",
    "plt.legend()\n",
    "plt.show()"
   ]
  },
  {
   "cell_type": "markdown",
   "id": "5c04eff7",
   "metadata": {},
   "source": [
    "The choise of h_i is affecting an increase of standard deviation of data model fron process model i.e the data model is not fitting the process model."
   ]
  },
  {
   "cell_type": "markdown",
   "id": "e5cc7443",
   "metadata": {},
   "source": [
    "# b)Kalman filter to update the states x_i"
   ]
  },
  {
   "cell_type": "code",
   "execution_count": null,
   "id": "8e26a261",
   "metadata": {},
   "outputs": [],
   "source": [
    "def Kalm(M,Q,R,H,y,Sgm,Mu):\n",
    "    N = len(y)\n",
    "    mu_old = np.zeros(N)\n",
    "    sigma_old = np.zeros(N)\n",
    "    mu_new = np.zeros(N+1)\n",
    "    mu_new[0] = Mu\n",
    "    sigma_new = np.zeros(N+1)\n",
    "    sigma_new[0] = Sgm\n",
    "    for t in range(1,N+1):\n",
    "        mu_old[t-1] = M*mu_new[t-1]\n",
    "        sigma_old[t-1] = Q + M*sigma_new[t-1]*M\n",
    "        k = sigma_old[t-1]*H*(H*sigma_old[t-1]*H + R)**-1\n",
    "        mu_new[t] = mu_old[t-1] + k*(y[t-1] - H*mu_old[t-1])\n",
    "        sigma_new[t] = (1 - k*H)*sigma_old[t-1] \n",
    "    return mu_old, mu_new[1:], sigma_old, sigma_new[1:],k\n",
    "\n",
    "q=0.4\n",
    "r=0.1\n",
    "alp=0.8\n",
    "Mu =0\n",
    "Sgm=1\n",
    "Q = q**2\n",
    "R = r**2\n",
    "H = 1\n",
    "mu_old,mu_new,sigma_old,sigma_new,k = Kalm(alp,Q,R,H,Y,Sgm,Mu)"
   ]
  },
  {
   "cell_type": "code",
   "execution_count": null,
   "id": "e29c8579",
   "metadata": {},
   "outputs": [],
   "source": [
    "def fun(mu_old,mu_new,sigma_old,sigma_new,y):\n",
    "    N = len(y)\n",
    "    Xforecast = np.zeros(N)\n",
    "    Xfilter = np.zeros(N)\n",
    "    for t in range(0,N):\n",
    "        Xforecast[t] = np.random.normal(mu_old[t],np.sqrt(sigma_old[t]))\n",
    "        Xfilter[t] = np.random.normal(mu_new[t],np.sqrt(sigma_new[t]))\n",
    "    return Xforecast , Xfilter"
   ]
  },
  {
   "cell_type": "code",
   "execution_count": null,
   "id": "6649ec41",
   "metadata": {},
   "outputs": [],
   "source": [
    "Xforecast,Xfilter = fun(mu_old,mu_new,sigma_old,sigma_new,Y)\n",
    "plt.figure(figsize=(8,6), dpi = 80)\n",
    "plt.plot(Y,'o', label = 'Data', color='black')\n",
    "plt.plot(X,label = 'Process', color ='blue')\n",
    "plt.plot(Xforecast, label = 'Forecasting', color ='red')\n",
    "plt.plot(Xfilter, label = 'Filtering', color='green')\n",
    "plt.legend()\n",
    "plt.show()"
   ]
  },
  {
   "cell_type": "markdown",
   "id": "b1324026",
   "metadata": {},
   "source": [
    "For figure above we can see that there is no  much noise between data model and process model and we can see also that there is no big biases between filtering and process model while there is big bias between process model and forecasting"
   ]
  },
  {
   "cell_type": "markdown",
   "id": "487cdb17",
   "metadata": {},
   "source": [
    "# c)Standard deviation of the filtered and forecasted estimates together with their errors"
   ]
  },
  {
   "cell_type": "code",
   "execution_count": null,
   "id": "ee9eeae3",
   "metadata": {},
   "outputs": [],
   "source": [
    "plt.figure(figsize=(8,6), dpi = 85)\n",
    "plt.plot(np.sqrt(sigma_old)+mu_old,label='Forecast_Upper',color='red') \n",
    "plt.plot(mu_old,label='Forecast_Mean',color='m')\n",
    "plt.plot(mu_old-np.sqrt(sigma_old),label='Forecast_Lower',color='g')\n",
    "plt.legend()\n",
    "plt.show()"
   ]
  },
  {
   "cell_type": "markdown",
   "id": "d99fdc79",
   "metadata": {},
   "source": [
    "The figure above shows that the biases between forecast lower and mean is not much large except between 10 and 20 x-axis\n",
    "and also for forecast upper the biases between it and mean is seems to be like the ones on forecast lower."
   ]
  },
  {
   "cell_type": "code",
   "execution_count": null,
   "id": "193c24bb",
   "metadata": {},
   "outputs": [],
   "source": [
    "plt.figure(figsize=(12,8), dpi = 85)\n",
    "plt.plot(np.sqrt(sigma_new[1:])+mu_new[1:],label='Filter_Upper',color='red') \n",
    "plt.plot(mu_new[1:],label='Filter_Mean',color='m')\n",
    "plt.plot(mu_new[1:]-np.sqrt(sigma_new[1:]),label='Filter_Lower',color='g')\n",
    "plt.legend()\n",
    "plt.show()"
   ]
  },
  {
   "cell_type": "markdown",
   "id": "3a27e7cf",
   "metadata": {},
   "source": [
    "From the figure above we can see that the biases between filter upper and filter lower is not large except between 10 and 20."
   ]
  },
  {
   "cell_type": "markdown",
   "id": "ea7397c9",
   "metadata": {},
   "source": [
    "# 3.a) The one dimensional nonlinear process model"
   ]
  },
  {
   "cell_type": "code",
   "execution_count": null,
   "id": "685a5435",
   "metadata": {},
   "outputs": [],
   "source": []
  },
  {
   "cell_type": "code",
   "execution_count": null,
   "id": "ec5bff57",
   "metadata": {},
   "outputs": [],
   "source": []
  },
  {
   "cell_type": "markdown",
   "id": "9341180c",
   "metadata": {},
   "source": [
    "__Process model__"
   ]
  },
  {
   "cell_type": "code",
   "execution_count": null,
   "id": "4d8bf5dd",
   "metadata": {},
   "outputs": [],
   "source": [
    "def PROCESS(alp,q):\n",
    "    x_0 = np.random.normal(0.1,0.01)\n",
    "    X = np.zeros(60)\n",
    "    X[0] = x_0\n",
    "    for i in range (1,30):\n",
    "        delta = np.random.normal(0,q)\n",
    "        X[i] = alp * X[i-1]*(1-X[i-1]) + delta\n",
    "    return X"
   ]
  },
  {
   "cell_type": "markdown",
   "id": "d7f9c58d",
   "metadata": {},
   "source": [
    "__Data model__"
   ]
  },
  {
   "cell_type": "code",
   "execution_count": null,
   "id": "2d88eda2",
   "metadata": {},
   "outputs": [],
   "source": [
    "def DATA(X,r):\n",
    "    n = len(X)\n",
    "    Y = np.zeros(n)\n",
    "    for i in range(0,n):\n",
    "        ep = np.random.normal(0,r)\n",
    "        Y[i]=X[i]+ep\n",
    "    return Y"
   ]
  },
  {
   "cell_type": "markdown",
   "id": "0065d590",
   "metadata": {},
   "source": [
    "__Parameters__"
   ]
  },
  {
   "cell_type": "code",
   "execution_count": null,
   "id": "09767c23",
   "metadata": {},
   "outputs": [],
   "source": [
    "alp=0.9;q=0.001;r=0.005"
   ]
  },
  {
   "cell_type": "markdown",
   "id": "ac1c7e8d",
   "metadata": {},
   "source": [
    "__Plot__"
   ]
  },
  {
   "cell_type": "code",
   "execution_count": null,
   "id": "b9bd622f",
   "metadata": {},
   "outputs": [],
   "source": [
    "N_X=PROCESS(alp,q)\n",
    "N_Y=DATA(N_X,r)\n",
    "plt.figure(figsize=(8,8), dpi = 85)\n",
    "plt.plot(N_X,color ='black',label='Process')\n",
    "plt.plot(N_Y,'o',color='blue',label='Data')\n",
    "plt.legend()\n",
    "plt.show()"
   ]
  },
  {
   "cell_type": "markdown",
   "id": "386df12e",
   "metadata": {},
   "source": [
    "__b. Kalman filter__"
   ]
  },
  {
   "cell_type": "markdown",
   "id": "93342829",
   "metadata": {},
   "source": [
    "Approximation function"
   ]
  },
  {
   "cell_type": "code",
   "execution_count": null,
   "id": "ed632dfa",
   "metadata": {},
   "outputs": [],
   "source": [
    "def APPROXIMATION(a_0,PROCESS):\n",
    "    N=len(PROCESS)\n",
    "    M_1=np.zeros(N)\n",
    "    for i in range(N):\n",
    "        M_1[i]=a_0*(1-2*PROCESS[i])\n",
    "    return M_1"
   ]
  },
  {
   "cell_type": "code",
   "execution_count": null,
   "id": "1bf0ba6e",
   "metadata": {},
   "outputs": [],
   "source": []
  },
  {
   "cell_type": "code",
   "execution_count": null,
   "id": "9bd7639f",
   "metadata": {},
   "outputs": [],
   "source": [
    "def KALMAN_EXT(mu_0,sig_0,M,M_1,Q,R,H,y):\n",
    "    N = len(y)\n",
    "    mu = np.zeros(N)\n",
    "    sig = np.zeros(N)\n",
    "    mu_new = np.zeros(N+1)\n",
    "    mu_new[0] = mu_0\n",
    "    sig_new = np.zeros(N+1)\n",
    "    sig_new[0] = sig_0\n",
    "    for t in range(1,N+1):\n",
    "        mu[t-1] = M*mu_new[t-1]\n",
    "        sig[t-1] = Q + M_1[t-1]*sig_new[t-1]*M_1[t-1]\n",
    "        k = sig[t-1]*H*(H*sig[t-1]*H + R)**-1\n",
    "        mu_new[t] = mu[t-1] + k*(y[t-1] - H*mu[t-1])\n",
    "        sig_new[t] = (1 - k*H)*sig[t-1] \n",
    "    return mu, mu_new[1:], sig, sig_new [1:]"
   ]
  },
  {
   "cell_type": "code",
   "execution_count": null,
   "id": "8c98f50b",
   "metadata": {},
   "outputs": [],
   "source": [
    "def ESTIMATION(mu,mu_new,sig,sig_new,y):\n",
    "    N = len(y)\n",
    "    X_FORE = np.zeros(N)\n",
    "    X_FILT = np.zeros(N)\n",
    "    for t in range(0,N):\n",
    "        X_FORE[t] = np.random.normal(mu[t],np.sqrt(sig[t]))\n",
    "        X_FILT[t] = np.random.normal(mu_new[t],np.sqrt(sig_new[t]))\n",
    "    return X_FORE , X_FILT\n",
    "\n",
    "q=0.001;r=0.005;mu_0 =0.1;sig_0=0.01;Q = q**2;R = r**2;H = 1;a=0.9\n",
    "\n",
    "N_X1=PROCESS(a,q)\n",
    "\n",
    "M_1=APPROXIMATION(a,N_X1)\n",
    "mu,mu_new,sig,sig_new= KALMAN_EXT(mu_0,sig_0,a,M_1,Q,R,H,N_Y)\n"
   ]
  },
  {
   "cell_type": "code",
   "execution_count": null,
   "id": "77387410",
   "metadata": {},
   "outputs": [],
   "source": [
    "N_XFORE,N_XFILT = ESTIMATION(mu,mu_new,sig,sig_new,N_Y)"
   ]
  },
  {
   "cell_type": "code",
   "execution_count": null,
   "id": "fff21b07",
   "metadata": {},
   "outputs": [],
   "source": [
    "plt.figure(figsize=(8,8), dpi = 85)\n",
    "plt.plot(N_Y,'o', label = 'Data', color='blue')\n",
    "plt.plot(N_X,label = 'Process', color ='black')\n",
    "plt.plot(N_XFILT, label = 'Filtering', color='red')\n",
    "plt.plot(N_XFORE, label = 'Forecasting', color ='cyan')\n",
    "plt.xlabel('Time')\n",
    "plt.legend()\n",
    "plt.show()"
   ]
  },
  {
   "cell_type": "markdown",
   "id": "aa7af965",
   "metadata": {},
   "source": [
    "From figure above we can see that standard deviation between process model and data model is not large and we can see that the standard devition between filtering and process model, data modelis small and even for forecast has small deviation from model except at 3 there is an outlier."
   ]
  },
  {
   "cell_type": "code",
   "execution_count": null,
   "id": "b562a7ed",
   "metadata": {},
   "outputs": [],
   "source": []
  },
  {
   "cell_type": "markdown",
   "id": "e16ad7d9",
   "metadata": {},
   "source": [
    "# c) Plot of standard deviation of both filtered and forecasted estimates"
   ]
  },
  {
   "cell_type": "markdown",
   "id": "0f31c789",
   "metadata": {},
   "source": []
  },
  {
   "cell_type": "code",
   "execution_count": null,
   "id": "863d1674",
   "metadata": {},
   "outputs": [],
   "source": [
    "plt.figure(figsize=(12,8),dpi=85)\n",
    "plt.plot(np.sqrt(sig)+mu,label='Forecast_Upper',color ='black')\n",
    "plt.plot(mu,label='Mean',color ='blue')\n",
    "plt.plot(mu-np.sqrt(sig),label='Forecast_Lower',color ='green')\n",
    "plt.legend()\n",
    "plt.show()"
   ]
  },
  {
   "cell_type": "markdown",
   "id": "c0dee772",
   "metadata": {},
   "source": [
    "The figure above shows that the biases between forecast lower and mean is not much large except between 0 on  x-axis and also for forecast upper the biases between it and mean is seems to be like the ones on forecast lower."
   ]
  },
  {
   "cell_type": "code",
   "execution_count": null,
   "id": "aeee0670",
   "metadata": {},
   "outputs": [],
   "source": [
    "plt.figure(figsize=(12,8),dpi=85)\n",
    "plt.plot(np.sqrt(sig_new[1:])+mu_new[1:],label='Filter_Upper',color ='black')\n",
    "plt.plot(mu_new[1:],label='Mean',color ='blue')\n",
    "plt.plot(mu_new[1:]-np.sqrt(sig_new[1:]),label='Filter_Lower',color ='red')\n",
    "plt.legend()\n",
    "plt.show()"
   ]
  },
  {
   "cell_type": "markdown",
   "id": "fa9fcccf",
   "metadata": {},
   "source": [
    "The figure above shows that the biases between forecast lower and mean is not much large except from 14 x-axis and also for forecast upper the biases between it and mean is seems to be like the ones on forecast lower."
   ]
  },
  {
   "cell_type": "code",
   "execution_count": null,
   "id": "2a47a4a0",
   "metadata": {},
   "outputs": [],
   "source": []
  }
 ],
 "metadata": {
  "kernelspec": {
   "display_name": "Python 3",
   "language": "python",
   "name": "python3"
  },
  "language_info": {
   "codemirror_mode": {
    "name": "ipython",
    "version": 3
   },
   "file_extension": ".py",
   "mimetype": "text/x-python",
   "name": "python",
   "nbconvert_exporter": "python",
   "pygments_lexer": "ipython3",
   "version": "3.9.2"
  }
 },
 "nbformat": 4,
 "nbformat_minor": 5
}
